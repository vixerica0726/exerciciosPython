{
  "nbformat": 4,
  "nbformat_minor": 0,
  "metadata": {
    "colab": {
      "provenance": [],
      "authorship_tag": "ABX9TyMnBu45c9vAH36tzBKsYIkU",
      "include_colab_link": true
    },
    "kernelspec": {
      "name": "python3",
      "display_name": "Python 3"
    },
    "language_info": {
      "name": "python"
    }
  },
  "cells": [
    {
      "cell_type": "markdown",
      "metadata": {
        "id": "view-in-github",
        "colab_type": "text"
      },
      "source": [
        "<a href=\"https://colab.research.google.com/github/vixerica0726/exerciciosPython/blob/main/atividadePythonNumpy.ipynb\" target=\"_parent\"><img src=\"https://colab.research.google.com/assets/colab-badge.svg\" alt=\"Open In Colab\"/></a>"
      ]
    },
    {
      "cell_type": "markdown",
      "source": [
        "1. Crie um array com 4 linhas e 3 colunas com valores aleatórios.\n"
      ],
      "metadata": {
        "id": "AVUA-Z8PKfLK"
      }
    },
    {
      "cell_type": "code",
      "execution_count": 3,
      "metadata": {
        "colab": {
          "base_uri": "https://localhost:8080/"
        },
        "id": "iMkJw9-sKGfd",
        "outputId": "23629ce5-cad2-4731-f09c-c73b2ba351b9"
      },
      "outputs": [
        {
          "output_type": "stream",
          "name": "stdout",
          "text": [
            "[[0.39789655 0.95594889 0.34377975]\n",
            " [0.54401196 0.10570895 0.43636826]\n",
            " [0.39504392 0.00830448 0.09070987]\n",
            " [0.67768655 0.42429292 0.36039074]]\n"
          ]
        }
      ],
      "source": [
        "import numpy as np  # Importa a biblioteca Numpy\n",
        "array1 = np.random.rand(4, 3)  # Cria um array com valores aleatórios\n",
        "print(array1)"
      ]
    },
    {
      "cell_type": "markdown",
      "source": [
        "2. Crie um array com valores inteiros, 3 linhas e 5 colunas com valores\n",
        "aleatórios"
      ],
      "metadata": {
        "id": "5daEGivTKhX5"
      }
    },
    {
      "cell_type": "code",
      "source": [
        "array2 = np.random.randint(1, 100, (3, 5))  # Cria um array com inteiros entre 1 e 100\n",
        "print(array2)  # Imprime o array gerado\n"
      ],
      "metadata": {
        "colab": {
          "base_uri": "https://localhost:8080/"
        },
        "id": "rdRPU0TIKpw7",
        "outputId": "46ba0505-91ed-4539-804a-7d1615664699"
      },
      "execution_count": 4,
      "outputs": [
        {
          "output_type": "stream",
          "name": "stdout",
          "text": [
            "[[56 81 62 56 29]\n",
            " [22 87 14 52 24]\n",
            " [57 28 52 50 30]]\n"
          ]
        }
      ]
    },
    {
      "cell_type": "markdown",
      "source": [
        "3. Crie um array com 5 colunas e 10 linhas inicializados com zeros.\n",
        "\n"
      ],
      "metadata": {
        "id": "fxkaZRpGLeEU"
      }
    },
    {
      "cell_type": "code",
      "source": [
        "# Cria um array com 10 linhas e 5 colunas, preenchido com zeros\n",
        "array = np.zeros((10, 5))\n",
        "print(array)\n"
      ],
      "metadata": {
        "colab": {
          "base_uri": "https://localhost:8080/"
        },
        "id": "c2B_1VKRKxaQ",
        "outputId": "e17d780d-7983-464a-d26a-ed8767c8a2c4"
      },
      "execution_count": 6,
      "outputs": [
        {
          "output_type": "stream",
          "name": "stdout",
          "text": [
            "[[0. 0. 0. 0. 0.]\n",
            " [0. 0. 0. 0. 0.]\n",
            " [0. 0. 0. 0. 0.]\n",
            " [0. 0. 0. 0. 0.]\n",
            " [0. 0. 0. 0. 0.]\n",
            " [0. 0. 0. 0. 0.]\n",
            " [0. 0. 0. 0. 0.]\n",
            " [0. 0. 0. 0. 0.]\n",
            " [0. 0. 0. 0. 0.]\n",
            " [0. 0. 0. 0. 0.]]\n"
          ]
        }
      ]
    },
    {
      "cell_type": "markdown",
      "source": [
        "4. 4. Crie um array que vá entre 0 e 90 pulando de 4 em 4.\n"
      ],
      "metadata": {
        "id": "KQT0iWWHLtaq"
      }
    },
    {
      "cell_type": "code",
      "source": [
        "array = np.arange(0, 91, 4)\n",
        "print(array)\n"
      ],
      "metadata": {
        "colab": {
          "base_uri": "https://localhost:8080/"
        },
        "id": "O60i-wj6L68-",
        "outputId": "4c8f8296-d790-46f8-9e77-ff4ef7f9c2db"
      },
      "execution_count": 7,
      "outputs": [
        {
          "output_type": "stream",
          "name": "stdout",
          "text": [
            "[ 0  4  8 12 16 20 24 28 32 36 40 44 48 52 56 60 64 68 72 76 80 84 88]\n"
          ]
        }
      ]
    },
    {
      "cell_type": "markdown",
      "source": [
        "5. Reduza o array (5,7) a apenas uma dimensão.\n"
      ],
      "metadata": {
        "id": "FdzXQycTMKN8"
      }
    },
    {
      "cell_type": "code",
      "source": [
        "array = np.random.randint(1, 10, size=(5, 7))  # Cria um array 5x7 com valores aleatórios entre 1 e 10\n",
        "array_reduzido = array.flatten()  # Reduz para uma única dimensão\n",
        "\n",
        "print(array_reduzido)\n"
      ],
      "metadata": {
        "colab": {
          "base_uri": "https://localhost:8080/"
        },
        "id": "vyY7-SU2MMsO",
        "outputId": "819d0da9-7130-40fb-ffad-0437141a062f"
      },
      "execution_count": 8,
      "outputs": [
        {
          "output_type": "stream",
          "name": "stdout",
          "text": [
            "[6 6 6 1 5 2 1 5 9 2 2 9 2 3 2 8 8 6 9 9 6 4 3 4 9 1 6 6 3 7 8 3 9 4 5]\n"
          ]
        }
      ]
    },
    {
      "cell_type": "markdown",
      "source": [
        "6. Considerando que você é uma organizadora de um jogo de bingo. Crie\n",
        "um array que irá representar a cartilha desses jogos de bingo. os\n",
        "números das suas cartelas variam entre 1 e 30, e você terá 10\n",
        "participantes. Cada cartela terá 12 números (4, 3). Crie um array que\n",
        "representa esse jogo.\n"
      ],
      "metadata": {
        "id": "VeFk6pYrMSHI"
      }
    },
    {
      "cell_type": "code",
      "source": [
        "array_bingo = np.random.randint(1, 31, size=(10, 4, 3))  # Cria um array 10x4x3 com números entre 1 e 30\n",
        "\n",
        "print(array_bingo)\n"
      ],
      "metadata": {
        "colab": {
          "base_uri": "https://localhost:8080/"
        },
        "id": "iC_rRmOEMVtf",
        "outputId": "95cd039c-f5c4-4559-dfc1-7f4eed55f5f1"
      },
      "execution_count": 9,
      "outputs": [
        {
          "output_type": "stream",
          "name": "stdout",
          "text": [
            "[[[10  2  2]\n",
            "  [18 27 18]\n",
            "  [26 24 27]\n",
            "  [23 10 26]]\n",
            "\n",
            " [[18  5 22]\n",
            "  [14 29 23]\n",
            "  [22  9  3]\n",
            "  [27 17 22]]\n",
            "\n",
            " [[27 24 15]\n",
            "  [18 15  3]\n",
            "  [ 8 16 28]\n",
            "  [16 22  7]]\n",
            "\n",
            " [[28 19 28]\n",
            "  [30 24 18]\n",
            "  [26 11 18]\n",
            "  [10 14 18]]\n",
            "\n",
            " [[ 9 25 17]\n",
            "  [19 28 24]\n",
            "  [25 30 27]\n",
            "  [12 30  3]]\n",
            "\n",
            " [[27  6 13]\n",
            "  [ 8 22  7]\n",
            "  [ 6 24 27]\n",
            "  [14 17  2]]\n",
            "\n",
            " [[28 10 21]\n",
            "  [ 4  9  1]\n",
            "  [30  2  3]\n",
            "  [19 19 19]]\n",
            "\n",
            " [[16  1 22]\n",
            "  [30  8 23]\n",
            "  [29 18 13]\n",
            "  [ 2  1 21]]\n",
            "\n",
            " [[19  1 25]\n",
            "  [ 1 22 16]\n",
            "  [13 14  7]\n",
            "  [22 29 27]]\n",
            "\n",
            " [[15  9  5]\n",
            "  [11 19 28]\n",
            "  [ 4  9  8]\n",
            "  [ 5 11 12]]]\n"
          ]
        }
      ]
    },
    {
      "cell_type": "markdown",
      "source": [
        "7. Faça o reshape das suas cartelas para que haja 5 cartelas de 4 linhas e\n",
        "6 colunas."
      ],
      "metadata": {
        "id": "HQGClY-PMdXa"
      }
    },
    {
      "cell_type": "code",
      "source": [
        "array_bingo_reshape = array_bingo.reshape(5, 4, 6)  # Altera o formato para 5 cartelas com 4 linhas e 6 colunas\n",
        "\n",
        "print(array_bingo_reshape)\n"
      ],
      "metadata": {
        "colab": {
          "base_uri": "https://localhost:8080/"
        },
        "id": "e1Xdti7WMeQm",
        "outputId": "d9d47b65-fee6-4eda-e2a3-3f948c609510"
      },
      "execution_count": 10,
      "outputs": [
        {
          "output_type": "stream",
          "name": "stdout",
          "text": [
            "[[[10  2  2 18 27 18]\n",
            "  [26 24 27 23 10 26]\n",
            "  [18  5 22 14 29 23]\n",
            "  [22  9  3 27 17 22]]\n",
            "\n",
            " [[27 24 15 18 15  3]\n",
            "  [ 8 16 28 16 22  7]\n",
            "  [28 19 28 30 24 18]\n",
            "  [26 11 18 10 14 18]]\n",
            "\n",
            " [[ 9 25 17 19 28 24]\n",
            "  [25 30 27 12 30  3]\n",
            "  [27  6 13  8 22  7]\n",
            "  [ 6 24 27 14 17  2]]\n",
            "\n",
            " [[28 10 21  4  9  1]\n",
            "  [30  2  3 19 19 19]\n",
            "  [16  1 22 30  8 23]\n",
            "  [29 18 13  2  1 21]]\n",
            "\n",
            " [[19  1 25  1 22 16]\n",
            "  [13 14  7 22 29 27]\n",
            "  [15  9  5 11 19 28]\n",
            "  [ 4  9  8  5 11 12]]]\n"
          ]
        }
      ]
    },
    {
      "cell_type": "markdown",
      "source": [
        "# Manipulando Arrays"
      ],
      "metadata": {
        "id": "QJ89z1G9MjMv"
      }
    },
    {
      "cell_type": "markdown",
      "source": [
        "2. Ainda usando o Array de espécies marítima"
      ],
      "metadata": {
        "id": "RlP2rbIpPJVT"
      }
    },
    {
      "cell_type": "code",
      "source": [
        "import numpy as np\n",
        "\n",
        "# Dados das espécies\n",
        "especies = np.array([[747, 89, 33, 5],\n",
        "                     [623, 123, 32, 13],\n",
        "                     [501, 22, 49, 2],\n",
        "                     [116, 101, 42, 10],\n",
        "                     [297, 56, 69, 22],\n",
        "                     [613, 64, 27, 7],\n",
        "                     [295, 84, 29, 14],\n",
        "                     [692, 105, 72, 16],\n",
        "                     [229, 103, 35, 5],\n",
        "                     [374, 124, 70, 1]])\n",
        "\n",
        "qtd_especies = especies[:, 1]  # Seleciona a segunda coluna (quantidade de representantes encontrados)\n",
        "print(\"Segunda coluna de quantidade de espécies encontradas\",qtd_especies)\n",
        "\n",
        "print(\"3 primeiras quantidades de espécies\", qtd_especies[:3])\n",
        "\n",
        "print(\"5 útimas Quantidades de espécies\", qtd_especies[-5:])\n",
        "\n",
        "tamanhos = especies[:, 3]  # Seleciona a coluna de tamanhos\n",
        "tamanhos_ordenados = np.sort(tamanhos)\n",
        "print(\"Ordem crescente -> \", tamanhos_ordenados)\n"
      ],
      "metadata": {
        "colab": {
          "base_uri": "https://localhost:8080/"
        },
        "id": "tjrWpLJqMqWh",
        "outputId": "a793317f-2513-42be-81db-ce61a68c1c6a"
      },
      "execution_count": 16,
      "outputs": [
        {
          "output_type": "stream",
          "name": "stdout",
          "text": [
            "Segunda coluna de quantidade de espécies encontradas [ 89 123  22 101  56  64  84 105 103 124]\n",
            "3 primeiras quantidades de espécies [ 89 123  22]\n",
            "5 útimas Quantidades de espécies [ 64  84 105 103 124]\n",
            "Ordem crescente ->  [ 1  2  5  5  7 10 13 14 16 22]\n"
          ]
        }
      ]
    },
    {
      "cell_type": "code",
      "source": [
        "import numpy as np\n",
        "\n",
        "# Dados das espécies (especies)\n",
        "especies = np.array([[747, 89, 33, 5],\n",
        "                     [623, 123, 32, 13],\n",
        "                     [501, 22, 49, 2],\n",
        "                     [116, 101, 42, 10],\n",
        "                     [297, 56, 69, 22],\n",
        "                     [613, 64, 27, 7],\n",
        "                     [295, 84, 29, 14],\n",
        "                     [692, 105, 72, 16],\n",
        "                     [229, 103, 35, 5],\n",
        "                     [374, 124, 70, 1]])\n",
        "\n",
        "# a. Adicionando mais 2 espécies\n",
        "novas_especies = np.array([[204, 10, 40, 12], [392, 11, 81, 11]])\n",
        "especies = np.vstack([especies, novas_especies])  # Adiciona as novas espécies ao array\n",
        "\n",
        "# b. Adicionando uma nova coluna com o número de espécies encontradas que indicam se o animal enxerga ou não\n",
        "enxerga = np.array([0, 1, 0, 0, 0, 0, 1, 0, 1, 1, 0])  # Indica se o animal enxerga ou não\n",
        "enxerga = np.resize(enxerga, (len(especies),))  # Ajusta o tamanho para corresponder ao número de linhas em 'especies'\n",
        "especies = np.column_stack([especies, enxerga])  # Adiciona como nova coluna\n",
        "\n",
        "print(\"\\nDados das espécies após a adição de novas espécies e coluna de visão:\")\n",
        "print(especies)\n"
      ],
      "metadata": {
        "colab": {
          "base_uri": "https://localhost:8080/"
        },
        "id": "B0DdA6k0M3RV",
        "outputId": "73b3751b-67dd-472c-e7f1-b75083b09b5d"
      },
      "execution_count": 22,
      "outputs": [
        {
          "output_type": "stream",
          "name": "stdout",
          "text": [
            "\n",
            "Dados das espécies após a adição de novas espécies e coluna de visão:\n",
            "[[747  89  33   5   0]\n",
            " [623 123  32  13   1]\n",
            " [501  22  49   2   0]\n",
            " [116 101  42  10   0]\n",
            " [297  56  69  22   0]\n",
            " [613  64  27   7   0]\n",
            " [295  84  29  14   1]\n",
            " [692 105  72  16   0]\n",
            " [229 103  35   5   1]\n",
            " [374 124  70   1   1]\n",
            " [204  10  40  12   0]\n",
            " [392  11  81  11   0]]\n"
          ]
        }
      ]
    },
    {
      "cell_type": "markdown",
      "source": [
        "3. Ainda no conjunto 'especies'.\n",
        "Cálculo com Array\n"
      ],
      "metadata": {
        "id": "JEQ0NjKpQW-g"
      }
    },
    {
      "cell_type": "code",
      "source": [
        "import numpy as np\n",
        "\n",
        "# Dados das espécies (especies)\n",
        "especies = np.array([[747, 89, 33, 5],\n",
        "                     [623, 123, 32, 13],\n",
        "                     [501, 22, 49, 2],\n",
        "                     [116, 101, 42, 10],\n",
        "                     [297, 56, 69, 22],\n",
        "                     [613, 64, 27, 7],\n",
        "                     [295, 84, 29, 14],\n",
        "                     [692, 105, 72, 16],\n",
        "                     [229, 103, 35, 5],\n",
        "                     [374, 124, 70, 1]])\n",
        "\n",
        "# a. Adicionando mais 2 espécies\n",
        "novas_especies = np.array([[204, 10, 40, 12], [392, 11, 81, 11]])\n",
        "especies = np.vstack([especies, novas_especies])  # Adiciona as novas espécies ao array\n",
        "\n",
        "# b. Adicionando uma nova coluna com o número de espécies encontradas que indicam se o animal enxerga ou não\n",
        "enxerga = np.array([0, 1, 0, 0, 0, 0, 1, 0, 1, 1, 0])  # Indica se o animal enxerga ou não\n",
        "enxerga = np.resize(enxerga, (len(especies),))  # Ajusta o tamanho para corresponder ao número de linhas em 'especies'\n",
        "especies = np.column_stack([especies, enxerga])  # Adiciona como nova coluna\n",
        "\n",
        "print(\"\\nDados das espécies após a adição de novas espécies e coluna de visão:\")\n",
        "print(especies)\n",
        "\n",
        "# 4. Cálculos com o array acidentes\n",
        "acidentes = np.array([[1, 3, 2],\n",
        "                      [0, 1, 0],\n",
        "                      [2, 1, 4],\n",
        "                      [0, 0, 0],\n",
        "                      [1, 1, 0]])\n",
        "\n",
        "# 1. Cliente que teve acidente abaixo da média nos últimos 2 anos\n",
        "media_acidentes = acidentes.mean(axis=1)  # Média de acidentes por cliente\n",
        "clientes_abaixo_media = acidentes[acidentes.mean(axis=1) < media_acidentes]  # Clientes com acidentes abaixo da média\n",
        "\n",
        "print(\"\\nClientes com acidente abaixo da média nos últimos 2 anos:\")\n",
        "print(clientes_abaixo_media)\n",
        "\n",
        "# 2. Qual cliente teve pelo menos 2 anos sem cometer acidentes?\n",
        "clientes_sem_acidente = np.where((acidentes == 0).sum(axis=1) >= 2)  # Verifica os clientes com 2 ou mais anos sem acidentes\n",
        "print(\"\\nCliente(s) que teve pelo menos 2 anos sem cometer acidentes:\")\n",
        "print(acidentes[clientes_sem_acidente])\n",
        "\n",
        "# 3. Aplicando a função (3x + 2y + x * y) nos dados\n",
        "x = np.array([1, 2, 3])\n",
        "y = np.array([4, 5, 6])\n",
        "resultado = 3 * x + 2 * y + x * y  # Aplica a fórmula fornecida\n",
        "print(\"\\nResultado da função (3x + 2y + x * y):\")\n",
        "print(resultado)\n",
        "\n",
        "# 4. Adicionando a mesma nota para todos os estudantes\n",
        "notas_trabalho = np.array([1, 2, 1])\n",
        "notas_trabalho_expandida = np.tile(notas_trabalho, (acidentes.shape[0], 1))  # Expande as notas para todas as provas\n",
        "print(\"\\nNotas das provas após adicionar as notas de trabalho para todos os estudantes:\")\n",
        "print(notas_trabalho_expandida)\n"
      ],
      "metadata": {
        "colab": {
          "base_uri": "https://localhost:8080/"
        },
        "id": "8DAiDEBIQuzr",
        "outputId": "5ba71214-aa8e-4a71-d9c0-4a3ccd1a4c3c"
      },
      "execution_count": 23,
      "outputs": [
        {
          "output_type": "stream",
          "name": "stdout",
          "text": [
            "\n",
            "Dados das espécies após a adição de novas espécies e coluna de visão:\n",
            "[[747  89  33   5   0]\n",
            " [623 123  32  13   1]\n",
            " [501  22  49   2   0]\n",
            " [116 101  42  10   0]\n",
            " [297  56  69  22   0]\n",
            " [613  64  27   7   0]\n",
            " [295  84  29  14   1]\n",
            " [692 105  72  16   0]\n",
            " [229 103  35   5   1]\n",
            " [374 124  70   1   1]\n",
            " [204  10  40  12   0]\n",
            " [392  11  81  11   0]]\n",
            "\n",
            "Clientes com acidente abaixo da média nos últimos 2 anos:\n",
            "[]\n",
            "\n",
            "Cliente(s) que teve pelo menos 2 anos sem cometer acidentes:\n",
            "[[0 1 0]\n",
            " [0 0 0]]\n",
            "\n",
            "Resultado da função (3x + 2y + x * y):\n",
            "[15 26 39]\n",
            "\n",
            "Notas das provas após adicionar as notas de trabalho para todos os estudantes:\n",
            "[[1 2 1]\n",
            " [1 2 1]\n",
            " [1 2 1]\n",
            " [1 2 1]\n",
            " [1 2 1]]\n"
          ]
        }
      ]
    }
  ]
}