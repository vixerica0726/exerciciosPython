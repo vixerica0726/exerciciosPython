{
  "nbformat": 4,
  "nbformat_minor": 0,
  "metadata": {
    "colab": {
      "provenance": [],
      "authorship_tag": "ABX9TyOsCKC5PgwGbJgXj+A835cb",
      "include_colab_link": true
    },
    "kernelspec": {
      "name": "python3",
      "display_name": "Python 3"
    },
    "language_info": {
      "name": "python"
    }
  },
  "cells": [
    {
      "cell_type": "markdown",
      "metadata": {
        "id": "view-in-github",
        "colab_type": "text"
      },
      "source": [
        "<a href=\"https://colab.research.google.com/github/vixerica0726/exerciciosPython/blob/main/Untitled1.ipynb\" target=\"_parent\"><img src=\"https://colab.research.google.com/assets/colab-badge.svg\" alt=\"Open In Colab\"/></a>"
      ]
    },
    {
      "cell_type": "markdown",
      "source": [
        " ## Exercícios Estatística Frequências e Medidas\n",
        "\n",
        "Considerando a base de dados de enem_2023.json responda as questões\n",
        "abaixo (os dados são fictícios).\n",
        "Você é uma pesquisadora de um cursinho para estudantes que querem\n",
        "ingressar na universidade em 2025. Seu objetivo é retirar informações da base\n",
        "de dados do enem do ano anterior para alinhar melhor as estratégias do\n",
        "cursinho para cada estudante. O dado possui 6 colunas, 5 delas representam\n",
        "as disciplinas do ENEM e uma o gênero das pessoas que fizeram a prova. No\n",
        "dado existe a representação de 1000 pessoas, sendo cada uma delas uma\n",
        "linha.\n",
        "\n"
      ],
      "metadata": {
        "id": "LhiQKKgXgjAL"
      }
    },
    {
      "cell_type": "code",
      "source": [
        "# Bibliotecas\n",
        "import pandas as pd # Manipulação dos dados\n",
        "import numpy as np # Cálculos numéricos e estatísticas\n",
        "import matplotlib.pyplot as plt # Visualizações gráficas\n",
        "import seaborn as sns # Gráficos\n",
        "import json # carregar o arquivo"
      ],
      "metadata": {
        "id": "8jKCjJTbhou4"
      },
      "execution_count": null,
      "outputs": []
    },
    {
      "cell_type": "code",
      "source": [
        "# upload do arquivo\n",
        "file_path = '/content/enem_2023.json'\n",
        "\n",
        "# Carregar o arquivo JSON\n",
        "data = pd.read_json(file_path)\n",
        "\n",
        "# Imprime as primeiras linhas\n",
        "data.head(10)\n"
      ],
      "metadata": {
        "colab": {
          "base_uri": "https://localhost:8080/",
          "height": 363
        },
        "id": "lzpp6PqKgxe_",
        "outputId": "8519c14f-b93e-4d63-e2a2-d44e1c8a9f0d"
      },
      "execution_count": 11,
      "outputs": [
        {
          "output_type": "execute_result",
          "data": {
            "text/plain": [
              "   Linguagens  Ciências humanas  Ciências da natureza  Matemática     Redação  \\\n",
              "0  585.669300        686.512178            390.482473  452.281333  546.371706   \n",
              "1  359.384608        642.084134                   NaN  412.205207  741.825256   \n",
              "2  622.732384        495.510719            443.183580  669.683401  684.515750   \n",
              "3  350.164605        602.041588            413.979810  676.608952  671.237114   \n",
              "4  384.093657        489.249140            609.758123  520.426698  744.375048   \n",
              "5  616.043360        502.007005            497.777935  615.902547  507.365147   \n",
              "6  511.897593        479.197660            469.023899  441.139103  541.979136   \n",
              "7  377.439818        663.489624            556.239031  517.215575  635.424649   \n",
              "8  597.462934               NaN            483.223740  509.043317  499.676936   \n",
              "9  536.571398        594.007869                   NaN  595.562778  270.839965   \n",
              "\n",
              "     Sexo  \n",
              "0   Homem  \n",
              "1  Mulher  \n",
              "2   Homem  \n",
              "3   Homem  \n",
              "4   Homem  \n",
              "5   Homem  \n",
              "6  Mulher  \n",
              "7  Mulher  \n",
              "8  Mulher  \n",
              "9  Mulher  "
            ],
            "text/html": [
              "\n",
              "  <div id=\"df-a3f41e2c-28df-4bf9-b14e-a253a3884347\" class=\"colab-df-container\">\n",
              "    <div>\n",
              "<style scoped>\n",
              "    .dataframe tbody tr th:only-of-type {\n",
              "        vertical-align: middle;\n",
              "    }\n",
              "\n",
              "    .dataframe tbody tr th {\n",
              "        vertical-align: top;\n",
              "    }\n",
              "\n",
              "    .dataframe thead th {\n",
              "        text-align: right;\n",
              "    }\n",
              "</style>\n",
              "<table border=\"1\" class=\"dataframe\">\n",
              "  <thead>\n",
              "    <tr style=\"text-align: right;\">\n",
              "      <th></th>\n",
              "      <th>Linguagens</th>\n",
              "      <th>Ciências humanas</th>\n",
              "      <th>Ciências da natureza</th>\n",
              "      <th>Matemática</th>\n",
              "      <th>Redação</th>\n",
              "      <th>Sexo</th>\n",
              "    </tr>\n",
              "  </thead>\n",
              "  <tbody>\n",
              "    <tr>\n",
              "      <th>0</th>\n",
              "      <td>585.669300</td>\n",
              "      <td>686.512178</td>\n",
              "      <td>390.482473</td>\n",
              "      <td>452.281333</td>\n",
              "      <td>546.371706</td>\n",
              "      <td>Homem</td>\n",
              "    </tr>\n",
              "    <tr>\n",
              "      <th>1</th>\n",
              "      <td>359.384608</td>\n",
              "      <td>642.084134</td>\n",
              "      <td>NaN</td>\n",
              "      <td>412.205207</td>\n",
              "      <td>741.825256</td>\n",
              "      <td>Mulher</td>\n",
              "    </tr>\n",
              "    <tr>\n",
              "      <th>2</th>\n",
              "      <td>622.732384</td>\n",
              "      <td>495.510719</td>\n",
              "      <td>443.183580</td>\n",
              "      <td>669.683401</td>\n",
              "      <td>684.515750</td>\n",
              "      <td>Homem</td>\n",
              "    </tr>\n",
              "    <tr>\n",
              "      <th>3</th>\n",
              "      <td>350.164605</td>\n",
              "      <td>602.041588</td>\n",
              "      <td>413.979810</td>\n",
              "      <td>676.608952</td>\n",
              "      <td>671.237114</td>\n",
              "      <td>Homem</td>\n",
              "    </tr>\n",
              "    <tr>\n",
              "      <th>4</th>\n",
              "      <td>384.093657</td>\n",
              "      <td>489.249140</td>\n",
              "      <td>609.758123</td>\n",
              "      <td>520.426698</td>\n",
              "      <td>744.375048</td>\n",
              "      <td>Homem</td>\n",
              "    </tr>\n",
              "    <tr>\n",
              "      <th>5</th>\n",
              "      <td>616.043360</td>\n",
              "      <td>502.007005</td>\n",
              "      <td>497.777935</td>\n",
              "      <td>615.902547</td>\n",
              "      <td>507.365147</td>\n",
              "      <td>Homem</td>\n",
              "    </tr>\n",
              "    <tr>\n",
              "      <th>6</th>\n",
              "      <td>511.897593</td>\n",
              "      <td>479.197660</td>\n",
              "      <td>469.023899</td>\n",
              "      <td>441.139103</td>\n",
              "      <td>541.979136</td>\n",
              "      <td>Mulher</td>\n",
              "    </tr>\n",
              "    <tr>\n",
              "      <th>7</th>\n",
              "      <td>377.439818</td>\n",
              "      <td>663.489624</td>\n",
              "      <td>556.239031</td>\n",
              "      <td>517.215575</td>\n",
              "      <td>635.424649</td>\n",
              "      <td>Mulher</td>\n",
              "    </tr>\n",
              "    <tr>\n",
              "      <th>8</th>\n",
              "      <td>597.462934</td>\n",
              "      <td>NaN</td>\n",
              "      <td>483.223740</td>\n",
              "      <td>509.043317</td>\n",
              "      <td>499.676936</td>\n",
              "      <td>Mulher</td>\n",
              "    </tr>\n",
              "    <tr>\n",
              "      <th>9</th>\n",
              "      <td>536.571398</td>\n",
              "      <td>594.007869</td>\n",
              "      <td>NaN</td>\n",
              "      <td>595.562778</td>\n",
              "      <td>270.839965</td>\n",
              "      <td>Mulher</td>\n",
              "    </tr>\n",
              "  </tbody>\n",
              "</table>\n",
              "</div>\n",
              "    <div class=\"colab-df-buttons\">\n",
              "\n",
              "  <div class=\"colab-df-container\">\n",
              "    <button class=\"colab-df-convert\" onclick=\"convertToInteractive('df-a3f41e2c-28df-4bf9-b14e-a253a3884347')\"\n",
              "            title=\"Convert this dataframe to an interactive table.\"\n",
              "            style=\"display:none;\">\n",
              "\n",
              "  <svg xmlns=\"http://www.w3.org/2000/svg\" height=\"24px\" viewBox=\"0 -960 960 960\">\n",
              "    <path d=\"M120-120v-720h720v720H120Zm60-500h600v-160H180v160Zm220 220h160v-160H400v160Zm0 220h160v-160H400v160ZM180-400h160v-160H180v160Zm440 0h160v-160H620v160ZM180-180h160v-160H180v160Zm440 0h160v-160H620v160Z\"/>\n",
              "  </svg>\n",
              "    </button>\n",
              "\n",
              "  <style>\n",
              "    .colab-df-container {\n",
              "      display:flex;\n",
              "      gap: 12px;\n",
              "    }\n",
              "\n",
              "    .colab-df-convert {\n",
              "      background-color: #E8F0FE;\n",
              "      border: none;\n",
              "      border-radius: 50%;\n",
              "      cursor: pointer;\n",
              "      display: none;\n",
              "      fill: #1967D2;\n",
              "      height: 32px;\n",
              "      padding: 0 0 0 0;\n",
              "      width: 32px;\n",
              "    }\n",
              "\n",
              "    .colab-df-convert:hover {\n",
              "      background-color: #E2EBFA;\n",
              "      box-shadow: 0px 1px 2px rgba(60, 64, 67, 0.3), 0px 1px 3px 1px rgba(60, 64, 67, 0.15);\n",
              "      fill: #174EA6;\n",
              "    }\n",
              "\n",
              "    .colab-df-buttons div {\n",
              "      margin-bottom: 4px;\n",
              "    }\n",
              "\n",
              "    [theme=dark] .colab-df-convert {\n",
              "      background-color: #3B4455;\n",
              "      fill: #D2E3FC;\n",
              "    }\n",
              "\n",
              "    [theme=dark] .colab-df-convert:hover {\n",
              "      background-color: #434B5C;\n",
              "      box-shadow: 0px 1px 3px 1px rgba(0, 0, 0, 0.15);\n",
              "      filter: drop-shadow(0px 1px 2px rgba(0, 0, 0, 0.3));\n",
              "      fill: #FFFFFF;\n",
              "    }\n",
              "  </style>\n",
              "\n",
              "    <script>\n",
              "      const buttonEl =\n",
              "        document.querySelector('#df-a3f41e2c-28df-4bf9-b14e-a253a3884347 button.colab-df-convert');\n",
              "      buttonEl.style.display =\n",
              "        google.colab.kernel.accessAllowed ? 'block' : 'none';\n",
              "\n",
              "      async function convertToInteractive(key) {\n",
              "        const element = document.querySelector('#df-a3f41e2c-28df-4bf9-b14e-a253a3884347');\n",
              "        const dataTable =\n",
              "          await google.colab.kernel.invokeFunction('convertToInteractive',\n",
              "                                                    [key], {});\n",
              "        if (!dataTable) return;\n",
              "\n",
              "        const docLinkHtml = 'Like what you see? Visit the ' +\n",
              "          '<a target=\"_blank\" href=https://colab.research.google.com/notebooks/data_table.ipynb>data table notebook</a>'\n",
              "          + ' to learn more about interactive tables.';\n",
              "        element.innerHTML = '';\n",
              "        dataTable['output_type'] = 'display_data';\n",
              "        await google.colab.output.renderOutput(dataTable, element);\n",
              "        const docLink = document.createElement('div');\n",
              "        docLink.innerHTML = docLinkHtml;\n",
              "        element.appendChild(docLink);\n",
              "      }\n",
              "    </script>\n",
              "  </div>\n",
              "\n",
              "\n",
              "<div id=\"df-ec918287-1eae-464c-bacb-69291eb93d5d\">\n",
              "  <button class=\"colab-df-quickchart\" onclick=\"quickchart('df-ec918287-1eae-464c-bacb-69291eb93d5d')\"\n",
              "            title=\"Suggest charts\"\n",
              "            style=\"display:none;\">\n",
              "\n",
              "<svg xmlns=\"http://www.w3.org/2000/svg\" height=\"24px\"viewBox=\"0 0 24 24\"\n",
              "     width=\"24px\">\n",
              "    <g>\n",
              "        <path d=\"M19 3H5c-1.1 0-2 .9-2 2v14c0 1.1.9 2 2 2h14c1.1 0 2-.9 2-2V5c0-1.1-.9-2-2-2zM9 17H7v-7h2v7zm4 0h-2V7h2v10zm4 0h-2v-4h2v4z\"/>\n",
              "    </g>\n",
              "</svg>\n",
              "  </button>\n",
              "\n",
              "<style>\n",
              "  .colab-df-quickchart {\n",
              "      --bg-color: #E8F0FE;\n",
              "      --fill-color: #1967D2;\n",
              "      --hover-bg-color: #E2EBFA;\n",
              "      --hover-fill-color: #174EA6;\n",
              "      --disabled-fill-color: #AAA;\n",
              "      --disabled-bg-color: #DDD;\n",
              "  }\n",
              "\n",
              "  [theme=dark] .colab-df-quickchart {\n",
              "      --bg-color: #3B4455;\n",
              "      --fill-color: #D2E3FC;\n",
              "      --hover-bg-color: #434B5C;\n",
              "      --hover-fill-color: #FFFFFF;\n",
              "      --disabled-bg-color: #3B4455;\n",
              "      --disabled-fill-color: #666;\n",
              "  }\n",
              "\n",
              "  .colab-df-quickchart {\n",
              "    background-color: var(--bg-color);\n",
              "    border: none;\n",
              "    border-radius: 50%;\n",
              "    cursor: pointer;\n",
              "    display: none;\n",
              "    fill: var(--fill-color);\n",
              "    height: 32px;\n",
              "    padding: 0;\n",
              "    width: 32px;\n",
              "  }\n",
              "\n",
              "  .colab-df-quickchart:hover {\n",
              "    background-color: var(--hover-bg-color);\n",
              "    box-shadow: 0 1px 2px rgba(60, 64, 67, 0.3), 0 1px 3px 1px rgba(60, 64, 67, 0.15);\n",
              "    fill: var(--button-hover-fill-color);\n",
              "  }\n",
              "\n",
              "  .colab-df-quickchart-complete:disabled,\n",
              "  .colab-df-quickchart-complete:disabled:hover {\n",
              "    background-color: var(--disabled-bg-color);\n",
              "    fill: var(--disabled-fill-color);\n",
              "    box-shadow: none;\n",
              "  }\n",
              "\n",
              "  .colab-df-spinner {\n",
              "    border: 2px solid var(--fill-color);\n",
              "    border-color: transparent;\n",
              "    border-bottom-color: var(--fill-color);\n",
              "    animation:\n",
              "      spin 1s steps(1) infinite;\n",
              "  }\n",
              "\n",
              "  @keyframes spin {\n",
              "    0% {\n",
              "      border-color: transparent;\n",
              "      border-bottom-color: var(--fill-color);\n",
              "      border-left-color: var(--fill-color);\n",
              "    }\n",
              "    20% {\n",
              "      border-color: transparent;\n",
              "      border-left-color: var(--fill-color);\n",
              "      border-top-color: var(--fill-color);\n",
              "    }\n",
              "    30% {\n",
              "      border-color: transparent;\n",
              "      border-left-color: var(--fill-color);\n",
              "      border-top-color: var(--fill-color);\n",
              "      border-right-color: var(--fill-color);\n",
              "    }\n",
              "    40% {\n",
              "      border-color: transparent;\n",
              "      border-right-color: var(--fill-color);\n",
              "      border-top-color: var(--fill-color);\n",
              "    }\n",
              "    60% {\n",
              "      border-color: transparent;\n",
              "      border-right-color: var(--fill-color);\n",
              "    }\n",
              "    80% {\n",
              "      border-color: transparent;\n",
              "      border-right-color: var(--fill-color);\n",
              "      border-bottom-color: var(--fill-color);\n",
              "    }\n",
              "    90% {\n",
              "      border-color: transparent;\n",
              "      border-bottom-color: var(--fill-color);\n",
              "    }\n",
              "  }\n",
              "</style>\n",
              "\n",
              "  <script>\n",
              "    async function quickchart(key) {\n",
              "      const quickchartButtonEl =\n",
              "        document.querySelector('#' + key + ' button');\n",
              "      quickchartButtonEl.disabled = true;  // To prevent multiple clicks.\n",
              "      quickchartButtonEl.classList.add('colab-df-spinner');\n",
              "      try {\n",
              "        const charts = await google.colab.kernel.invokeFunction(\n",
              "            'suggestCharts', [key], {});\n",
              "      } catch (error) {\n",
              "        console.error('Error during call to suggestCharts:', error);\n",
              "      }\n",
              "      quickchartButtonEl.classList.remove('colab-df-spinner');\n",
              "      quickchartButtonEl.classList.add('colab-df-quickchart-complete');\n",
              "    }\n",
              "    (() => {\n",
              "      let quickchartButtonEl =\n",
              "        document.querySelector('#df-ec918287-1eae-464c-bacb-69291eb93d5d button');\n",
              "      quickchartButtonEl.style.display =\n",
              "        google.colab.kernel.accessAllowed ? 'block' : 'none';\n",
              "    })();\n",
              "  </script>\n",
              "</div>\n",
              "\n",
              "    </div>\n",
              "  </div>\n"
            ],
            "application/vnd.google.colaboratory.intrinsic+json": {
              "type": "dataframe",
              "variable_name": "data",
              "summary": "{\n  \"name\": \"data\",\n  \"rows\": 1000,\n  \"fields\": [\n    {\n      \"column\": \"Linguagens\",\n      \"properties\": {\n        \"dtype\": \"number\",\n        \"std\": 84.00931315971195,\n        \"min\": 287.0,\n        \"max\": 804.4563171927,\n        \"num_unique_values\": 896,\n        \"samples\": [\n          638.5729576994,\n          458.5772735297,\n          469.6368972844\n        ],\n        \"semantic_type\": \"\",\n        \"description\": \"\"\n      }\n    },\n    {\n      \"column\": \"Ci\\u00eancias humanas\",\n      \"properties\": {\n        \"dtype\": \"number\",\n        \"std\": 77.81151916399479,\n        \"min\": 289.9,\n        \"max\": 763.9196954613,\n        \"num_unique_values\": 935,\n        \"samples\": [\n          552.953806862,\n          648.4281845758,\n          519.0714634707\n        ],\n        \"semantic_type\": \"\",\n        \"description\": \"\"\n      }\n    },\n    {\n      \"column\": \"Ci\\u00eancias da natureza\",\n      \"properties\": {\n        \"dtype\": \"number\",\n        \"std\": 78.76040369093826,\n        \"min\": 314.4,\n        \"max\": 802.0045683513,\n        \"num_unique_values\": 821,\n        \"samples\": [\n          472.110329659,\n          468.0927320977,\n          391.1238460543\n        ],\n        \"semantic_type\": \"\",\n        \"description\": \"\"\n      }\n    },\n    {\n      \"column\": \"Matem\\u00e1tica\",\n      \"properties\": {\n        \"dtype\": \"number\",\n        \"std\": 86.64810003261282,\n        \"min\": 319.8,\n        \"max\": 807.8779018921,\n        \"num_unique_values\": 918,\n        \"samples\": [\n          577.6921115123,\n          562.8560894807,\n          464.1971411718\n        ],\n        \"semantic_type\": \"\",\n        \"description\": \"\"\n      }\n    },\n    {\n      \"column\": \"Reda\\u00e7\\u00e3o\",\n      \"properties\": {\n        \"dtype\": \"number\",\n        \"std\": 115.33997244479167,\n        \"min\": 270.8399648605,\n        \"max\": 1000.0,\n        \"num_unique_values\": 860,\n        \"samples\": [\n          482.1791420587,\n          687.1614107203,\n          572.6498716449\n        ],\n        \"semantic_type\": \"\",\n        \"description\": \"\"\n      }\n    },\n    {\n      \"column\": \"Sexo\",\n      \"properties\": {\n        \"dtype\": \"category\",\n        \"num_unique_values\": 3,\n        \"samples\": [\n          \"Homem\",\n          \"Mulher\",\n          \"N\\u00e3o idenficado\"\n        ],\n        \"semantic_type\": \"\",\n        \"description\": \"\"\n      }\n    }\n  ]\n}"
            }
          },
          "metadata": {},
          "execution_count": 11
        }
      ]
    },
    {
      "cell_type": "markdown",
      "source": [
        "1. Qual das disciplinas tem a maior amplitude de nota?"
      ],
      "metadata": {
        "id": "Y6df5GoCg1DL"
      }
    },
    {
      "cell_type": "code",
      "source": [
        "# Verificar os nomes das colunas\n",
        "print(data.columns)\n",
        "\n",
        "# Lista de disciplinas (sem incluir a coluna 'Sexo')\n",
        "disciplinas = ['Linguagens', 'Ciências humanas', 'Ciências da natureza', 'Matemática', 'Redação']\n",
        "\n",
        "# Dicionário para armazenar as amplitudes\n",
        "amplitudes = {}\n",
        "\n",
        "# Calcular a amplitude das notas de cada disciplina\n",
        "for disciplina in disciplinas:\n",
        "    # Remover valores nulos antes de calcular a amplitude\n",
        "    disciplina_sem_na = data[disciplina].dropna()\n",
        "\n",
        "    # Calcular a amplitude (máximo - mínimo) para cada disciplina\n",
        "    amplitude = disciplina_sem_na.max() - disciplina_sem_na.min()\n",
        "    amplitudes[disciplina] = amplitude\n",
        "\n",
        "    # Exibir a amplitude de cada disciplina\n",
        "    print(f'A amplitude da disciplina {disciplina} é {amplitude}')\n",
        "\n",
        "# Encontrar a disciplina com a maior amplitude\n",
        "maior_amplitude = max(amplitudes, key=amplitudes.get)\n",
        "print(f\"\\nA disciplina com a maior amplitude de nota é: {maior_amplitude} com amplitude {amplitudes[maior_amplitude]}\")\n"
      ],
      "metadata": {
        "colab": {
          "base_uri": "https://localhost:8080/"
        },
        "id": "N75PqlPNiSv-",
        "outputId": "9c98df36-fe65-4176-cb51-0b8e25851b9c"
      },
      "execution_count": 27,
      "outputs": [
        {
          "output_type": "stream",
          "name": "stdout",
          "text": [
            "Index(['Linguagens', 'Ciências humanas', 'Ciências da natureza', 'Matemática',\n",
            "       'Redação', 'Sexo'],\n",
            "      dtype='object')\n",
            "A amplitude da disciplina Linguagens é 517.4563171927\n",
            "A amplitude da disciplina Ciências humanas é 474.0196954613\n",
            "A amplitude da disciplina Ciências da natureza é 487.60456835130003\n",
            "A amplitude da disciplina Matemática é 488.0779018921\n",
            "A amplitude da disciplina Redação é 729.1600351395\n",
            "\n",
            "A disciplina com a maior amplitude de nota é: Redação com amplitude 729.1600351395\n"
          ]
        }
      ]
    },
    {
      "cell_type": "markdown",
      "source": [
        "2. Qual é a média e a\n",
        "mediana para cada uma das disciplinas? (Lembre-se de remover todos os\n",
        "valores nulos quando considerar a mediana)\n"
      ],
      "metadata": {
        "id": "wcggLNthmuCY"
      }
    },
    {
      "cell_type": "code",
      "source": [
        "# Dicionário\n",
        "media_mediana = {}\n",
        "\n",
        "# Calcula a media e mediana para cada disciplina\n",
        "for disciplina in disciplinas:\n",
        "  media = data[disciplina].mean() # Calcula a media\n",
        "  mediana = data[disciplina].dropna().median() # calcula a mediana tirando valores nulos\n",
        "  print(f'A média da disciplina {disciplina} é {media} e a mediana é {mediana}')\n",
        "  media_mediana[disciplina] = (media, mediana) # Armazena no dicionário"
      ],
      "metadata": {
        "colab": {
          "base_uri": "https://localhost:8080/"
        },
        "id": "NvFgQ1-Gm5pu",
        "outputId": "07ee0888-4462-4559-83a7-51d5a352ca18"
      },
      "execution_count": 29,
      "outputs": [
        {
          "output_type": "stream",
          "name": "stdout",
          "text": [
            "A média da disciplina Linguagens é 514.5248092106333 e a mediana é 515.0452497632\n",
            "A média da disciplina Ciências humanas é 527.0422808644046 e a mediana é 524.51992005745\n",
            "A média da disciplina Ciências da natureza é 499.3155828489798 e a mediana é 500.47926306565\n",
            "A média da disciplina Matemática é 535.9656600928728 e a mediana é 533.2477669785001\n",
            "A média da disciplina Redação é 637.7835320695872 e a mediana é 635.27397319435\n"
          ]
        }
      ]
    },
    {
      "cell_type": "markdown",
      "source": [
        "3. Considerando o curso de Ciência da Computação da UFPE, onde o peso\n",
        "\n",
        "cada uma das disciplinas ponderado:\n",
        "\n",
        "a. Redação - 2\n",
        "\n",
        "b. Matemática e suas Tecnologias - 4\n",
        "\n",
        "c. Linguagens, Códigos e suas Tecnologias - 2\n",
        "\n",
        "d. Ciências Humanas e suas Tecnologias - 1\n",
        "\n",
        "e. Ciências da Natureza e suas Tecnologias - 1\n",
        "\n",
        "Qual o desvio padrão e média das notas dos 500 estudantes mais bem\n",
        "colocados considerando esses pesos?"
      ],
      "metadata": {
        "id": "Ps5gthOupB8_"
      }
    },
    {
      "cell_type": "code",
      "source": [
        "# Definir os pesos de cada disciplina\n",
        "pesos = {\n",
        "    'Redação': 2,\n",
        "    'Matemática': 4,\n",
        "    'Linguagens': 2,\n",
        "    'Ciências humanas': 1,\n",
        "    'Ciências da natureza': 1\n",
        "}\n",
        "\n",
        "# Calcular a nota total de cada estudante ponderada pelas disciplinas\n",
        "data['nota_total'] = (\n",
        "    data['Redação'] * pesos['Redação'] +\n",
        "    data['Matemática'] * pesos['Matemática'] +\n",
        "    data['Linguagens'] * pesos['Linguagens'] +\n",
        "    data['Ciências humanas'] * pesos['Ciências humanas'] +\n",
        "    data['Ciências da natureza'] * pesos['Ciências da natureza']\n",
        ")\n",
        "\n",
        "# Selecionar os 500 estudantes mais bem colocados (ordenados pela nota total)\n",
        "top_500 = data.sort_values(by='nota_total', ascending=False).head(500)\n",
        "\n",
        "# Calcular a média ponderada das notas dos 500 melhores colocados\n",
        "media_ponderada = (\n",
        "    (top_500['Redação'] * pesos['Redação'] +\n",
        "     top_500['Matemática'] * pesos['Matemática'] +\n",
        "     top_500['Linguagens'] * pesos['Linguagens'] +\n",
        "     top_500['Ciências humanas'] * pesos['Ciências humanas'] +\n",
        "     top_500['Ciências da natureza'] * pesos['Ciências da natureza'])\n",
        "    / sum(pesos.values())  # Soma dos pesos das disciplinas\n",
        ")\n",
        "\n",
        "# Calcular a média das médias ponderadas\n",
        "media_ponderada_final = media_ponderada.mean()\n",
        "\n",
        "# Calcular o desvio padrão ponderado\n",
        "# A diferença entre as notas e a média ponderada é elevada ao quadrado e ponderada pelos pesos\n",
        "dif_quad = (\n",
        "    (top_500['Redação'] - media_ponderada_final)**2 * pesos['Redação'] +\n",
        "    (top_500['Matemática'] - media_ponderada_final)**2 * pesos['Matemática'] +\n",
        "    (top_500['Linguagens'] - media_ponderada_final)**2 * pesos['Linguagens'] +\n",
        "    (top_500['Ciências humanas'] - media_ponderada_final)**2 * pesos['Ciências humanas'] +\n",
        "    (top_500['Ciências da natureza'] - media_ponderada_final)**2 * pesos['Ciências da natureza']\n",
        ")\n",
        "\n",
        "# Calcular o desvio padrão ponderado\n",
        "desvio_padrao_ponderado = (dif_quad.sum() / (sum(pesos.values()) * len(top_500)))**0.5\n",
        "\n",
        "print(f\"A média ponderada das notas dos 500 estudantes mais bem colocados é: {media_ponderada_final:.2f}\")\n",
        "print(f\"O desvio padrão ponderado das notas dos 500 estudantes mais bem colocados é: {desvio_padrao_ponderado:.2f}\")\n"
      ],
      "metadata": {
        "colab": {
          "base_uri": "https://localhost:8080/"
        },
        "id": "3V7LLsRMnpxP",
        "outputId": "ef467309-df1c-444a-8a7e-61dcdba730d6"
      },
      "execution_count": 37,
      "outputs": [
        {
          "output_type": "stream",
          "name": "stdout",
          "text": [
            "A média ponderada das notas dos 500 estudantes mais bem colocados é: 557.29\n",
            "O desvio padrão ponderado das notas dos 500 estudantes mais bem colocados é: 100.71\n"
          ]
        }
      ]
    },
    {
      "cell_type": "markdown",
      "source": [
        "4. Se todos esses estudantes aplicassem para ciência da computação e\n",
        "existem apenas 40 vagas, qual seria a variância e média da nota dos\n",
        "estudantes que entraram no curso de ciência da computação?"
      ],
      "metadata": {
        "id": "ryY0bbKLsH_g"
      }
    },
    {
      "cell_type": "code",
      "source": [
        "# Selecionar os 40 estudantes mais bem colocados (primeiras 40 vagas)\n",
        "top_40 = top_500.head(40)\n",
        "\n",
        "# Calcular a média das notas dos 40 estudantes\n",
        "media_top_40 = top_40['nota_total'].mean()\n",
        "\n",
        "# Calcular a variância das notas dos 40 estudantes\n",
        "variancia_top_40 = top_40['nota_total'].var()\n",
        "\n",
        "print(f\"A média das notas dos 40 estudantes mais bem colocados é: {media_top_40:.2f}\")\n",
        "print(f\"A variância das notas dos 40 estudantes mais bem colocados é: {variancia_top_40:.2f}\")\n"
      ],
      "metadata": {
        "colab": {
          "base_uri": "https://localhost:8080/"
        },
        "id": "-VLhysSTsKio",
        "outputId": "402fb54c-9649-45ac-876a-68e4a9955c04"
      },
      "execution_count": 39,
      "outputs": [
        {
          "output_type": "stream",
          "name": "stdout",
          "text": [
            "A média das notas dos 40 estudantes mais bem colocados é: 6366.83\n",
            "A variância das notas dos 40 estudantes mais bem colocados é: 29576.75\n"
          ]
        }
      ]
    },
    {
      "cell_type": "markdown",
      "source": [
        "5. Qual o valor do teto do terceiro quartil para as disciplinas de matemática\n",
        "e linguagens?"
      ],
      "metadata": {
        "id": "OleAAIURsa5d"
      }
    },
    {
      "cell_type": "code",
      "source": [
        "import numpy as np\n",
        "\n",
        "# Calcular o terceiro quartil (Q3) para as disciplinas Matemática e Linguagens\n",
        "Q3_matematica = data['Matemática'].quantile(0.75)\n",
        "Q3_linguagens = data['Linguagens'].quantile(0.75)\n",
        "\n",
        "# Calcular o teto de Q3 para as duas disciplinas\n",
        "teto_Q3_matematica = np.ceil(Q3_matematica)\n",
        "teto_Q3_linguagens = np.ceil(Q3_linguagens)\n",
        "\n",
        "# Exibir os resultados\n",
        "print(f'O teto do terceiro quartil para Matemática é: {teto_Q3_matematica}')\n",
        "print(f'O teto do terceiro quartil para Linguagens é: {teto_Q3_linguagens}')\n"
      ],
      "metadata": {
        "colab": {
          "base_uri": "https://localhost:8080/"
        },
        "id": "MY5sjZYhsdDZ",
        "outputId": "8fc20f17-1b26-4f15-af6c-e1bd71606c4d"
      },
      "execution_count": 40,
      "outputs": [
        {
          "output_type": "stream",
          "name": "stdout",
          "text": [
            "O teto do terceiro quartil para Matemática é: 593.0\n",
            "O teto do terceiro quartil para Linguagens é: 572.0\n"
          ]
        }
      ]
    },
    {
      "cell_type": "markdown",
      "source": [
        "6. Faça o histograma de Redação e Linguagens, de 20 em 20 pontos.\n",
        "Podemos dizer que são histogramas simétricos, justifique e classifique se\n",
        "não assimétricas?"
      ],
      "metadata": {
        "id": "tLCcjHaMskto"
      }
    },
    {
      "cell_type": "code",
      "source": [
        "import matplotlib.pyplot as plt\n",
        "\n",
        "# Criar os histogramas de Redação e Linguagens com intervalos de 20 pontos\n",
        "plt.figure(figsize=(12, 6))\n",
        "\n",
        "# Histograma de Redação\n",
        "plt.subplot(1, 2, 1)  # 1 linha, 2 colunas, 1º gráfico\n",
        "plt.hist(data['Redação'], bins=range(int(data['Redação'].min()), int(data['Redação'].max()) + 20, 20), edgecolor='black', color='blue', alpha=0.7)\n",
        "plt.title('Histograma de Redação')\n",
        "plt.xlabel('Nota')\n",
        "plt.ylabel('Frequência')\n",
        "\n",
        "# Histograma de Linguagens\n",
        "plt.subplot(1, 2, 2)  # 1 linha, 2 colunas, 2º gráfico\n",
        "plt.hist(data['Linguagens'], bins=range(int(data['Linguagens'].min()), int(data['Linguagens'].max()) + 20, 20), edgecolor='black', color='green', alpha=0.7)\n",
        "plt.title('Histograma de Linguagens')\n",
        "plt.xlabel('Nota')\n",
        "plt.ylabel('Frequência')\n",
        "\n",
        "# Exibir os gráficos\n",
        "plt.tight_layout()\n",
        "plt.show()\n"
      ],
      "metadata": {
        "colab": {
          "base_uri": "https://localhost:8080/",
          "height": 400
        },
        "id": "ukKGjJwjslc-",
        "outputId": "a7c989c3-8620-4247-94be-4af13f4fca03"
      },
      "execution_count": 41,
      "outputs": [
        {
          "output_type": "display_data",
          "data": {
            "text/plain": [
              "<Figure size 1200x600 with 2 Axes>"
            ],
            "image/png": "[encoded data removed]"
          },
          "metadata": {}
        }
      ]
    },
    {
      "cell_type": "markdown",
      "source": [
        "7. Agora coloque um range fixo de 0 até 1000, você ainda tem a mesma\n",
        "opinião quanto a simetria? [plt.hist(dado, bins=_, range=[0, 1000])"
      ],
      "metadata": {
        "id": "gx9BM4hpsupL"
      }
    },
    {
      "cell_type": "code",
      "source": [
        "# Criar os histogramas de Redação e Linguagens com intervalos de 20 pontos e range fixo de 0 a 1000\n",
        "plt.figure(figsize=(12, 6))\n",
        "\n",
        "# Histograma de Redação\n",
        "plt.subplot(1, 2, 1)  # 1 linha, 2 colunas, 1º gráfico\n",
        "plt.hist(data['Redação'], bins=range(0, 1001, 20), edgecolor='black', color='blue', alpha=0.7)\n",
        "plt.title('Histograma de Redação')\n",
        "plt.xlabel('Nota')\n",
        "plt.ylabel('Frequência')\n",
        "\n",
        "# Histograma de Linguagens\n",
        "plt.subplot(1, 2, 2)  # 1 linha, 2 colunas, 2º gráfico\n",
        "plt.hist(data['Linguagens'], bins=range(0, 1001, 20), edgecolor='black', color='green', alpha=0.7)\n",
        "plt.title('Histograma de Linguagens')\n",
        "plt.xlabel('Nota')\n",
        "plt.ylabel('Frequência')\n",
        "\n",
        "# Exibir os gráficos\n",
        "plt.tight_layout()\n",
        "plt.show()\n"
      ],
      "metadata": {
        "colab": {
          "base_uri": "https://localhost:8080/",
          "height": 400
        },
        "id": "blifEpwLsvgN",
        "outputId": "97a38b4c-67a8-43ce-8cc3-c34c77d68e29"
      },
      "execution_count": 42,
      "outputs": [
        {
          "output_type": "display_data",
          "data": {
            "text/plain": [
              "<Figure size 1200x600 with 2 Axes>"
            ],
            "image/png": "[encoded data removed]"
          },
          "metadata": {}
        }
      ]
    },
    {
      "cell_type": "markdown",
      "source": [
        "8. Faça um boxplot para as notas de Ciências da Natureza e Redação,\n",
        "analisando os quartis e identificando possíveis outliers. Utilize o método\n",
        "IQR (Intervalo Interquartílico) para essa análise.\n"
      ],
      "metadata": {
        "id": "TPQliaMts20N"
      }
    },
    {
      "cell_type": "code",
      "source": [
        "import matplotlib.pyplot as plt\n",
        "\n",
        "# Calcular o primeiro (Q1) e o terceiro quartil (Q3) e o IQR para as duas disciplinas\n",
        "q1_ciencias = data['Ciências da natureza'].quantile(0.25)\n",
        "q3_ciencias = data['Ciências da natureza'].quantile(0.75)\n",
        "iqr_ciencias = q3_ciencias - q1_ciencias\n",
        "\n",
        "q1_redacao = data['Redação'].quantile(0.25)\n",
        "q3_redacao = data['Redação'].quantile(0.75)\n",
        "iqr_redacao = q3_redacao - q1_redacao\n",
        "\n",
        "# Identificar outliers (valores abaixo de Q1 - 1.5 * IQR ou acima de Q3 + 1.5 * IQR)\n",
        "outliers_ciencias = data[(data['Ciências da natureza'] < q1_ciencias - 1.5 * iqr_ciencias) | (data['Ciências da natureza'] > q3_ciencias + 1.5 * iqr_ciencias)]\n",
        "outliers_redacao = data[(data['Redação'] < q1_redacao - 1.5 * iqr_redacao) | (data['Redação'] > q3_redacao + 1.5 * iqr_redacao)]\n",
        "\n",
        "# Criar o boxplot\n",
        "plt.figure(figsize=(10, 6))\n",
        "\n",
        "# Boxplot de Ciências da Natureza\n",
        "plt.subplot(1, 2, 1)\n",
        "plt.boxplot(data['Ciências da natureza'], vert=False, patch_artist=True, notch=True, boxprops=dict(facecolor='lightblue'))\n",
        "plt.title('Boxplot de Ciências da Natureza')\n",
        "plt.xlabel('Nota')\n",
        "\n",
        "# Boxplot de Redação\n",
        "plt.subplot(1, 2, 2)\n",
        "plt.boxplot(data['Redação'], vert=False, patch_artist=True, notch=True, boxprops=dict(facecolor='lightgreen'))\n",
        "plt.title('Boxplot de Redação')\n",
        "plt.xlabel('Nota')\n",
        "\n",
        "# Exibir os gráficos\n",
        "plt.tight_layout()\n",
        "plt.show()\n",
        "\n",
        "# Exibir os outliers encontrados\n",
        "print(\"Outliers de Ciências da Natureza:\")\n",
        "print(outliers_ciencias)\n",
        "\n",
        "print(\"\\nOutliers de Redação:\")\n",
        "print(outliers_redacao)\n"
      ],
      "metadata": {
        "colab": {
          "base_uri": "https://localhost:8080/",
          "height": 1000
        },
        "id": "NWc3nvHzs4o6",
        "outputId": "0f9fc419-2d65-46d6-98c0-c3d60cb1c791"
      },
      "execution_count": 43,
      "outputs": [
        {
          "output_type": "display_data",
          "data": {
            "text/plain": [
              "<Figure size 1000x600 with 2 Axes>"
            ],
            "image/png": "[encoded data removed]"
          },
          "metadata": {}
        },
        {
          "output_type": "stream",
          "name": "stdout",
          "text": [
            "Outliers de Ciências da Natureza:\n",
            "     Linguagens  Ciências humanas  Ciências da natureza  Matemática  \\\n",
            "325  618.876115        432.687076            802.004568  560.289340   \n",
            "482  370.689068        524.709047            732.502964  408.637397   \n",
            "483  529.778602        579.310155            718.396061  586.766692   \n",
            "\n",
            "        Redação    Sexo   nota_total  \n",
            "325  601.319954   Homem  5916.241140  \n",
            "482  813.910774   Homem  5260.961283  \n",
            "483         NaN  Mulher          NaN  \n",
            "\n",
            "Outliers de Redação:\n",
            "     Linguagens  Ciências humanas  Ciências da natureza  Matemática  \\\n",
            "9    536.571398        594.007869                   NaN  595.562778   \n",
            "545  554.412589        495.334270            566.178079  423.356151   \n",
            "720  522.618578        583.087526                   NaN  501.142292   \n",
            "870         NaN        655.720360            614.610540  459.137319   \n",
            "\n",
            "         Redação    Sexo   nota_total  \n",
            "9     270.839965  Mulher          NaN  \n",
            "545   290.308608   Homem  4444.379347  \n",
            "720  1000.000000  Mulher          NaN  \n",
            "870   981.016553  Mulher          NaN  \n"
          ]
        }
      ]
    },
    {
      "cell_type": "markdown",
      "source": [
        "9. Remova todos os outliers e verifique se eles são passíveis de alterar a\n",
        "média nacional significativamente? (considere significativamente um valor\n",
        "acima de 5%)"
      ],
      "metadata": {
        "id": "eHvqVqn-tJyR"
      }
    },
    {
      "cell_type": "code",
      "source": [
        "# Remover os outliers de Ciências da Natureza e Redação\n",
        "data_sem_outliers = data[~data['Ciências da natureza'].isin(outliers_ciencias['Ciências da natureza'])]\n",
        "data_sem_outliers = data_sem_outliers[~data_sem_outliers['Redação'].isin(outliers_redacao['Redação'])]\n",
        "\n",
        "# Calcular a média antes de remover os outliers\n",
        "media_original_ciencias = data['Ciências da natureza'].mean()\n",
        "media_original_redacao = data['Redação'].mean()\n",
        "\n",
        "# Calcular a média depois de remover os outliers\n",
        "media_sem_outliers_ciencias = data_sem_outliers['Ciências da natureza'].mean()\n",
        "media_sem_outliers_redacao = data_sem_outliers['Redação'].mean()\n",
        "\n",
        "# Calcular a diferença percentual nas médias\n",
        "diferenca_ciencias = ((media_original_ciencias - media_sem_outliers_ciencias) / media_original_ciencias) * 100\n",
        "diferenca_redacao = ((media_original_redacao - media_sem_outliers_redacao) / media_original_redacao) * 100\n",
        "\n",
        "# Exibir os resultados\n",
        "print(f\"Média original de Ciências da Natureza: {media_original_ciencias:.2f}\")\n",
        "print(f\"Média sem outliers de Ciências da Natureza: {media_sem_outliers_ciencias:.2f}\")\n",
        "print(f\"Diferença percentual de Ciências da Natureza: {diferenca_ciencias:.2f}%\")\n",
        "\n",
        "print(f\"Média original de Redação: {media_original_redacao:.2f}\")\n",
        "print(f\"Média sem outliers de Redação: {media_sem_outliers_redacao:.2f}\")\n",
        "print(f\"Diferença percentual de Redação: {diferenca_redacao:.2f}%\")\n",
        "\n",
        "# Verificar se a diferença é superior a 5%\n",
        "if diferenca_ciencias > 5:\n",
        "    print(\"A remoção dos outliers de Ciências da Natureza alterou a média de forma significativa.\")\n",
        "else:\n",
        "    print(\"A remoção dos outliers de Ciências da Natureza não alterou a média de forma significativa.\")\n",
        "\n",
        "if diferenca_redacao > 5:\n",
        "    print(\"A remoção dos outliers de Redação alterou a média de forma significativa.\")\n",
        "else:\n",
        "    print(\"A remoção dos outliers de Redação não alterou a média de forma significativa.\")\n"
      ],
      "metadata": {
        "colab": {
          "base_uri": "https://localhost:8080/"
        },
        "id": "uLqXL_1qtKSy",
        "outputId": "9412f1c3-2b27-4fe2-f0c6-5329461ce378"
      },
      "execution_count": 44,
      "outputs": [
        {
          "output_type": "stream",
          "name": "stdout",
          "text": [
            "Média original de Ciências da Natureza: 499.32\n",
            "Média sem outliers de Ciências da Natureza: 498.17\n",
            "Diferença percentual de Ciências da Natureza: 0.23%\n",
            "Média original de Redação: 637.78\n",
            "Média sem outliers de Redação: 637.63\n",
            "Diferença percentual de Redação: 0.02%\n",
            "A remoção dos outliers de Ciências da Natureza não alterou a média de forma significativa.\n",
            "A remoção dos outliers de Redação não alterou a média de forma significativa.\n"
          ]
        }
      ]
    },
    {
      "cell_type": "markdown",
      "source": [
        "10. Considerando valores nulos, tente encontrar qual seria a melhor medida\n",
        "de tendência que pode substituir as notas nulas. Média, moda ou mediana?\n",
        "Substitua o valor por todos os três e diga qual delas altera menos a média\n",
        "geral e o desvio padrão."
      ],
      "metadata": {
        "id": "WHDNA3ThtTSD"
      }
    },
    {
      "cell_type": "code",
      "source": [
        "# Selecionar apenas as colunas numéricas\n",
        "data_numerica = data.select_dtypes(include=['number'])\n",
        "\n",
        "# Calculando as estatísticas antes de substituir os valores nulos\n",
        "media_original = data_numerica.mean()\n",
        "desvio_padrao_original = data_numerica.std()\n",
        "\n",
        "# Substituir valores nulos pela média\n",
        "data_média_substituída = data_numerica.fillna(data_numerica.mean())\n",
        "\n",
        "# Substituir valores nulos pela mediana\n",
        "data_mediana_substituída = data_numerica.fillna(data_numerica.median())\n",
        "\n",
        "# Substituir valores nulos pela moda\n",
        "data_moda_substituída = data_numerica.fillna(data_numerica.mode().iloc[0])  # Pega a moda (valor mais frequente)\n",
        "\n",
        "# Calcular a média e o desvio padrão para cada substituição\n",
        "media_média_substituída = data_média_substituída.mean()\n",
        "desvio_padrao_média_substituída = data_média_substituída.std()\n",
        "\n",
        "media_mediana_substituída = data_mediana_substituída.mean()\n",
        "desvio_padrao_mediana_substituída = data_mediana_substituída.std()\n",
        "\n",
        "media_moda_substituída = data_moda_substituída.mean()\n",
        "desvio_padrao_moda_substituída = data_moda_substituída.std()\n",
        "\n",
        "# Exibir os resultados\n",
        "print(f\"Média original: {media_original.mean():.2f}, Desvio padrão original: {desvio_padrao_original.mean():.2f}\")\n",
        "print(f\"Média após substituir por média: {media_média_substituída.mean():.2f}, Desvio padrão após substituir por média: {desvio_padrao_média_substituída.mean():.2f}\")\n",
        "print(f\"Média após substituir por mediana: {media_mediana_substituída.mean():.2f}, Desvio padrão após substituir por mediana: {desvio_padrao_mediana_substituída.mean():.2f}\")\n",
        "print(f\"Média após substituir por moda: {media_moda_substituída.mean():.2f}, Desvio padrão após substituir por moda: {desvio_padrao_moda_substituída.mean():.2f}\")\n",
        "\n",
        "# Verificar qual substituição alterou menos a média e o desvio padrão\n",
        "alteracao_media = {\n",
        "    'Média': abs(media_original.mean() - media_média_substituída.mean()),\n",
        "    'Mediana': abs(media_original.mean() - media_mediana_substituída.mean()),\n",
        "    'Moda': abs(media_original.mean() - media_moda_substituída.mean())\n",
        "}\n",
        "\n",
        "alteracao_desvio_padrao = {\n",
        "    'Média': abs(desvio_padrao_original.mean() - desvio_padrao_média_substituída.mean()),\n",
        "    'Mediana': abs(desvio_padrao_original.mean() - desvio_padrao_mediana_substituída.mean()),\n",
        "    'Moda': abs(desvio_padrao_original.mean() - desvio_padrao_moda_substituída.mean())\n",
        "}\n",
        "\n",
        "# Exibir qual substituição alterou menos a média e o desvio padrão\n",
        "menor_alteracao_media = min(alteracao_media, key=alteracao_media.get)\n",
        "menor_alteracao_desvio_padrao = min(alteracao_desvio_padrao, key=alteracao_desvio_padrao.get)\n",
        "\n",
        "print(f\"A substituição que alterou menos a média foi: {menor_alteracao_media}\")\n",
        "print(f\"A substituição que alterou menos o desvio padrão foi: {menor_alteracao_desvio_padrao}\")\n"
      ],
      "metadata": {
        "colab": {
          "base_uri": "https://localhost:8080/"
        },
        "id": "e7KiPDEctVua",
        "outputId": "6e5c0643-22ac-409b-9b67-8a03332de850"
      },
      "execution_count": 46,
      "outputs": [
        {
          "output_type": "stream",
          "name": "stdout",
          "text": [
            "Média original: 1368.52, Desvio padrão original: 150.68\n",
            "Média após substituir por média: 1368.52, Desvio padrão após substituir por média: 126.34\n",
            "Média após substituir por mediana: 1366.97, Desvio padrão após substituir por mediana: 126.37\n",
            "Média após substituir por moda: 1248.51, Desvio padrão após substituir por moda: 215.65\n",
            "A substituição que alterou menos a média foi: Média\n",
            "A substituição que alterou menos o desvio padrão foi: Mediana\n"
          ]
        }
      ]
    }
  ]
}